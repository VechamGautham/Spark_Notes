{
 "cells": [
  {
   "cell_type": "markdown",
   "id": "cd8d5350",
   "metadata": {},
   "source": [
    "%md\n",
    "### 🔹 Spark DataFrame Creation Explained\n",
    "\n",
    "- **`spark`**  \n",
    "  An object of the **SparkSession class**.  \n",
    "  In Databricks, the `spark` object is created automatically (no need to define it manually with `SparkSession.builder...`).\n",
    "\n",
    "- **`spark.read`**  \n",
    "  A **property of the SparkSession object** that returns a **DataFrameReader class object**.  \n",
    "  This object is responsible for creating DataFrames from external data sources.\n",
    "\n",
    "- **`format(\"csv\")`**  \n",
    "  A **method of the DataFrameReader class**.  \n",
    "  It specifies that the input file format is CSV.\n",
    "\n",
    "- **`option(\"header\", True)`**  \n",
    "  A **method of the DataFrameReader class**.  \n",
    "  It sets how the DataFrame should be created.  \n",
    "  Here, it tells Spark to treat the first row as the column header.\n",
    "\n",
    "- **`option(\"inferSchema\", True)`**  \n",
    "  Another method of the DataFrameReader class.  \n",
    "  It enables automatic schema inference so Spark detects column data types instead of reading all as strings.\n",
    "\n",
    "- **`load(\"path\")`**  \n",
    "  A **method of the DataFrameReader class** that loads the data from the given path.  \n",
    "  It returns a **DataFrame object**.\n",
    "\n",
    "- **`limit(1000)`**  \n",
    "  A **method of the DataFrame class**.  \n",
    "  It restricts the DataFrame to only the first 1000 rows.\n",
    "\n",
    "- **`display(fire_df)`**  \n",
    "  A Databricks function that displays the DataFrame in a tabular format for easy visualization.\n"
   ]
  },
  {
   "cell_type": "code",
   "execution_count": null,
   "id": "db1dd8e2",
   "metadata": {},
   "outputs": [],
   "source": [
    "fire_df = (\n",
    "    spark.read\n",
    "    .format(\"csv\")\n",
    "    .option(\"header\", True)\n",
    "    .option(\"inferSchema\", True) \n",
    "    .load(\"/databricks-datasets/learning-spark-v2/sf-fire/sf-fire-calls.csv\")\n",
    ")\n",
    "display(fire_df)\n"
   ]
  },
  {
   "cell_type": "markdown",
   "id": "39a96d04",
   "metadata": {},
   "source": [
    "%md\n",
    "### 🔹 How to Write SQL Queries on a DataFrame in Databricks\n",
    "\n",
    "- To run SQL queries on a DataFrame, you first need to **register the DataFrame as a temporary SQL view**.  \n",
    "- This is done using the `createOrReplaceTempView(\"view_name\")` method.  \n",
    "\n",
    "---\n",
    "\n",
    "### 🧩 What `createOrReplaceTempView` Does\n",
    "- It assigns a **name** to your DataFrame so Spark SQL can treat it like a table.  \n",
    "- If a view with the same name already exists, it will be **replaced** by the new DataFrame.  \n",
    "- The view is **temporary**: it only exists during the current Spark session and disappears once the session ends.  \n",
    "\n",
    "---\n",
    "\n",
    "### 🔹 Running SQL Queries\n",
    "- After registering, you can write SQL queries against the view just like you would on a table.  \n",
    "- In Databricks, you can:\n",
    "  - Use `%sql` in a notebook cell to run SQL directly.  \n",
    "  - Or use `spark.sql(\"...\")` inside Python to run the query and get back a DataFrame.  \n",
    "\n",
    "---\n",
    "\n",
    "### 🔗 Workflow Summary\n",
    "1. **DataFrame** → load your dataset into memory.  \n",
    "2. **Temp View** → register the DataFrame with a name.  \n",
    "3. **SQL Query** → run SQL statements against that view.  \n",
    "4. **Result** → Spark returns the query result as a new DataFrame, which can be further transformed or displayed.\n"
   ]
  },
  {
   "cell_type": "code",
   "execution_count": null,
   "id": "b5bd5788",
   "metadata": {},
   "outputs": [],
   "source": [
    "fire_df.createOrReplaceTempView(\"fire_calls\")\n"
   ]
  },
  {
   "cell_type": "code",
   "execution_count": null,
   "id": "6f1c9a7d",
   "metadata": {},
   "outputs": [],
   "source": [
    "%sql\n",
    "select * from fire_calls\n"
   ]
  },
  {
   "cell_type": "code",
   "execution_count": null,
   "id": "911a5dca",
   "metadata": {},
   "outputs": [],
   "source": [
    "%sql\n",
    "create database if not exists demo_db;\n"
   ]
  },
  {
   "cell_type": "code",
   "execution_count": null,
   "id": "bec1d924",
   "metadata": {},
   "outputs": [],
   "source": [
    "%sql\n",
    "show databases\n"
   ]
  },
  {
   "cell_type": "code",
   "execution_count": null,
   "id": "5a79acb4",
   "metadata": {},
   "outputs": [],
   "source": [
    "%sql\n",
    "create table if not exists \n",
    "demo_db.fire_service_calls_tbl(\n",
    "  Call_Number int,\n",
    "  Unit_ID string,\n",
    "  Incident_Number int,\n",
    "  CallType string,\n",
    "  Call_Date date,\n",
    "  Watch_Date date,\n",
    "  Call_Final_Disposition string,\n",
    "  Available_DtTm string,\n",
    "  Address string,\n",
    "  City string,\n",
    "  Zipcode_of_Incident int,\n",
    "  Battalion string,\n",
    "  Station_Area string,\n",
    "  Box string,\n",
    "  OrigPriority string,\n",
    "  Priority string,\n",
    "  Final_Priority int,\n",
    "  ALS_Unit boolean,\n",
    "  Call_Type_Group string,\n",
    "  NumAlarms int,\n",
    "  UnitType string,\n",
    "  Unit_sequence_in_call_dispatch int,\n",
    "  Fire_Prevention_District string,\n",
    "  Supervisor_District string,\n",
    "  Neighborhood string,\n",
    "  Location string,\n",
    "  RowID string,\n",
    "  Delay double\n",
    "\n",
    ") using Delta\n"
   ]
  },
  {
   "cell_type": "code",
   "execution_count": null,
   "id": "e9ee14d6",
   "metadata": {},
   "outputs": [],
   "source": [
    "%sql\n",
    "insert into demo_db.fire_service_calls_tbl\n",
    "select * from fire_calls\n"
   ]
  },
  {
   "cell_type": "code",
   "execution_count": null,
   "id": "e20b9441",
   "metadata": {},
   "outputs": [],
   "source": [
    "%sql\n",
    "select * from demo_db.fire_service_calls_tbl\n",
    "limit(2)\n"
   ]
  },
  {
   "cell_type": "code",
   "execution_count": null,
   "id": "38f2f24a",
   "metadata": {},
   "outputs": [],
   "source": [
    "%sql\n",
    "select count(*) from demo_db.fire_service_calls_tbl\n"
   ]
  },
  {
   "cell_type": "markdown",
   "id": "788939d6",
   "metadata": {},
   "source": [
    "#### Q1. How many distinct types of calls were made to the fire department ?\n"
   ]
  },
  {
   "cell_type": "code",
   "execution_count": null,
   "id": "60a6f6d5",
   "metadata": {},
   "outputs": [],
   "source": [
    "%sql\n",
    " select count(distinct calltype) as distinct_call_type_count \n",
    " from demo_db.fire_service_calls_tbl\n"
   ]
  },
  {
   "cell_type": "markdown",
   "id": "4ae254bb",
   "metadata": {},
   "source": [
    "#### Q2. What were distinct types of calls made to the Fire Department?\n"
   ]
  },
  {
   "cell_type": "code",
   "execution_count": null,
   "id": "1dcef4a3",
   "metadata": {},
   "outputs": [],
   "source": [
    "%sql\n",
    "select distinct calltype as distinct_call_type \n",
    "from demo_db.fire_service_calls_tbl ;\n"
   ]
  },
  {
   "cell_type": "markdown",
   "id": "794fd0fd",
   "metadata": {},
   "source": [
    "#### Q3. Find out all response for delayed times greater than 5 mins ?\n"
   ]
  },
  {
   "cell_type": "code",
   "execution_count": null,
   "id": "37c567a7",
   "metadata": {},
   "outputs": [],
   "source": [
    "%sql\n",
    "select * \n",
    "from demo_db.fire_service_calls_tbl\n",
    "where delay > 5\n"
   ]
  },
  {
   "cell_type": "markdown",
   "id": "7b07521a",
   "metadata": {},
   "source": [
    "#### Q4. What were the most common call types ?\n"
   ]
  },
  {
   "cell_type": "code",
   "execution_count": null,
   "id": "f9151cdf",
   "metadata": {},
   "outputs": [],
   "source": [
    "%sql\n",
    "select \n",
    "calltype,\n",
    "count(*) as calltype_count \n",
    "from demo_db.fire_service_calls_tbl\n",
    "group by calltype\n",
    "order by calltype_count desc\n"
   ]
  },
  {
   "cell_type": "markdown",
   "id": "2ee6372d",
   "metadata": {},
   "source": [
    "#### Q5. What zip codes accounted for most common calls?\n"
   ]
  },
  {
   "cell_type": "code",
   "execution_count": null,
   "id": "46448f20",
   "metadata": {},
   "outputs": [],
   "source": [
    "%sql\n",
    "select \n",
    "zipcode_of_incident,\n",
    "count(*) as zipcode_count\n",
    "from demo_db.fire_service_calls_tbl\n",
    "group by Zipcode_of_Incident\n",
    "order by zipcode_count desc ;\n"
   ]
  },
  {
   "cell_type": "markdown",
   "id": "f93b53de",
   "metadata": {},
   "source": [
    "#### Q6. What San Francisco neighborhoods are in the zip codes 94102 and 94103 ?\n"
   ]
  },
  {
   "cell_type": "code",
   "execution_count": null,
   "id": "a0415634",
   "metadata": {},
   "outputs": [],
   "source": [
    "%sql\n",
    "select zipcode_of_incident , neighborhood \n",
    "from demo_db.fire_service_calls_tbl \n",
    "where Zipcode_of_Incident == 94102 or Zipcode_of_Incident = 94103\n"
   ]
  },
  {
   "cell_type": "markdown",
   "id": "303f019e",
   "metadata": {},
   "source": [
    "#### Q7. What was the sum of all call alarms, average, min, and max of the call response times ?\n"
   ]
  },
  {
   "cell_type": "code",
   "execution_count": null,
   "id": "0a42022d",
   "metadata": {},
   "outputs": [],
   "source": [
    "%sql\n",
    "select sum(numalarms) , avg(delay), min(delay), max(delay) \n",
    "from demo_db.fire_service_calls_tbl\n"
   ]
  },
  {
   "cell_type": "markdown",
   "id": "837b0985",
   "metadata": {},
   "source": [
    "#### Q8. How many distinct years of data is in the dataset\n"
   ]
  },
  {
   "cell_type": "code",
   "execution_count": null,
   "id": "2ee8958a",
   "metadata": {},
   "outputs": [],
   "source": [
    "%sql\n",
    "select distinct extract(year from call_date)as distinct_year \n",
    "from demo_db.fire_service_calls_tbl\n",
    "order by distinct_year\n"
   ]
  },
  {
   "cell_type": "markdown",
   "id": "92b6d36a",
   "metadata": {},
   "source": [
    "#### Q9. What week of the year in 2018 had the most fire calls ?\n"
   ]
  },
  {
   "cell_type": "code",
   "execution_count": null,
   "id": "7b4eedd8",
   "metadata": {},
   "outputs": [],
   "source": [
    "%sql\n",
    "select weekofyear(to_date(call_date,\"MM/dd/yyyy\")) week_year ,\n",
    "count(*) as count \n",
    "from demo_db.fire_service_calls_tbl\n",
    "where extract(year from call_date) = 2018 \n",
    "group by week_year \n",
    "order by count desc\n"
   ]
  },
  {
   "cell_type": "markdown",
   "id": "8be43168",
   "metadata": {},
   "source": [
    "#### Q10. What neighborhoods in San Francisco had the worst response time in 2018?\n"
   ]
  },
  {
   "cell_type": "code",
   "execution_count": null,
   "id": "7ee34b33",
   "metadata": {},
   "outputs": [],
   "source": [
    "%sql\n",
    "select \n",
    "Neighborhood,\n",
    "delay\n",
    "from demo_db.fire_service_calls_tbl\n",
    "where city = 'San Francisco' and extract(year from call_date) = 2018\n",
    "order by delay desc\n"
   ]
  }
 ],
 "metadata": {
  "kernelspec": {
   "display_name": "Python 3",
   "name": "python3"
  },
  "language_info": {
   "name": "python"
  }
 },
 "nbformat": 4,
 "nbformat_minor": 5
}