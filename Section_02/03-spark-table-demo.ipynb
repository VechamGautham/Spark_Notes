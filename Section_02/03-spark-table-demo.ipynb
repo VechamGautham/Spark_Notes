{
 "cells": [
  {
   "cell_type": "markdown",
   "metadata": {
    "application/vnd.databricks.v1+cell": {
     "cellMetadata": {},
     "inputWidgets": {},
     "nuid": "3c856d8d-228b-467f-abc0-d8f314bcccdd",
     "showTitle": false,
     "tableResultSettingsMap": {},
     "title": ""
    }
   },
   "source": [
    "To create a table, first create a database using the SQL command:"
   ]
  },
  {
   "cell_type": "code",
   "execution_count": 0,
   "metadata": {
    "application/vnd.databricks.v1+cell": {
     "cellMetadata": {
      "byteLimit": 2048000,
      "implicitDf": true,
      "rowLimit": 10000
     },
     "inputWidgets": {},
     "nuid": "db4e0da7-2e18-488f-ab62-b6333d0917c5",
     "showTitle": false,
     "tableResultSettingsMap": {},
     "title": ""
    }
   },
   "outputs": [],
   "source": [
    "%sql\n",
    "CREATE DATABASE IF NOT EXISTS demo_db;"
   ]
  },
  {
   "cell_type": "markdown",
   "metadata": {
    "application/vnd.databricks.v1+cell": {
     "cellMetadata": {},
     "inputWidgets": {},
     "nuid": "46bdf41a-4e9b-4a9b-a029-930099c34468",
     "showTitle": false,
     "tableResultSettingsMap": {},
     "title": ""
    }
   },
   "source": [
    "To show the databases that you have so far, use the SQL command:"
   ]
  },
  {
   "cell_type": "code",
   "execution_count": 0,
   "metadata": {
    "application/vnd.databricks.v1+cell": {
     "cellMetadata": {
      "byteLimit": 2048000,
      "implicitDf": true,
      "rowLimit": 10000
     },
     "inputWidgets": {},
     "nuid": "b21ba4c7-2185-47ff-a8d2-f57161261e82",
     "showTitle": false,
     "tableResultSettingsMap": {},
     "title": ""
    }
   },
   "outputs": [
    {
     "output_type": "display_data",
     "data": {
      "text/html": [
       "<style scoped>\n",
       "  .table-result-container {\n",
       "    max-height: 300px;\n",
       "    overflow: auto;\n",
       "  }\n",
       "  table, th, td {\n",
       "    border: 1px solid black;\n",
       "    border-collapse: collapse;\n",
       "  }\n",
       "  th, td {\n",
       "    padding: 5px;\n",
       "  }\n",
       "  th {\n",
       "    text-align: left;\n",
       "  }\n",
       "</style><div class='table-result-container'><table class='table-result'><thead style='background-color: white'><tr><th>databaseName</th></tr></thead><tbody><tr><td>default</td></tr><tr><td>demo_db</td></tr><tr><td>information_schema</td></tr></tbody></table></div>"
      ]
     },
     "metadata": {
      "application/vnd.databricks.v1+output": {
       "addedWidgets": {},
       "aggData": [],
       "aggError": "",
       "aggOverflow": false,
       "aggSchema": [],
       "aggSeriesLimitReached": false,
       "aggType": "",
       "arguments": {},
       "columnCustomDisplayInfos": {},
       "data": [
        [
         "default"
        ],
        [
         "demo_db"
        ],
        [
         "information_schema"
        ]
       ],
       "datasetInfos": [
        {
         "name": "_sqldf",
         "schema": {
          "fields": [
           {
            "metadata": {},
            "name": "databaseName",
            "nullable": false,
            "type": "string"
           }
          ],
          "type": "struct"
         },
         "tableIdentifier": null,
         "typeStr": "pyspark.sql.connect.dataframe.DataFrame"
        }
       ],
       "dbfsResultPath": null,
       "isJsonSchema": true,
       "metadata": {
        "createTempViewForImplicitDf": true,
        "dataframeName": "_sqldf",
        "executionCount": 7
       },
       "overflow": false,
       "plotOptions": {
        "customPlotOptions": {},
        "displayType": "table",
        "pivotAggregation": null,
        "pivotColumns": null,
        "xColumns": null,
        "yColumns": null
       },
       "removedWidgets": [],
       "schema": [
        {
         "metadata": "{}",
         "name": "databaseName",
         "type": "\"string\""
        }
       ],
       "type": "table"
      }
     },
     "output_type": "display_data"
    }
   ],
   "source": [
    "%sql\n",
    "SHOW DATABASES;"
   ]
  },
  {
   "cell_type": "markdown",
   "metadata": {
    "application/vnd.databricks.v1+cell": {
     "cellMetadata": {},
     "inputWidgets": {},
     "nuid": "36ea4faa-fe55-48fe-a49f-c7a6653c5551",
     "showTitle": false,
     "tableResultSettingsMap": {},
     "title": ""
    }
   },
   "source": [
    "To create a table and schema using the SQL command:"
   ]
  },
  {
   "cell_type": "code",
   "execution_count": 0,
   "metadata": {
    "application/vnd.databricks.v1+cell": {
     "cellMetadata": {
      "byteLimit": 2048000,
      "implicitDf": true,
      "rowLimit": 10000
     },
     "inputWidgets": {},
     "nuid": "5d09bc91-fcdd-4745-8631-25624e15c955",
     "showTitle": false,
     "tableResultSettingsMap": {},
     "title": ""
    }
   },
   "outputs": [],
   "source": [
    "%sql\n",
    "create table if not exists \n",
    "demo_db.fire_service_calls_tbl(\n",
    "  Call_Number int,\n",
    "  Unit_ID string,\n",
    "  Incident_Number int,\n",
    "  CallType string,\n",
    "  Call_Date date,\n",
    "  Watch_Date date,\n",
    "  Call_Final_Disposition string,\n",
    "  Available_DtTm string,\n",
    "  Address string,\n",
    "  City string,\n",
    "  Zipcode_of_Incident int,\n",
    "  Battalion string,\n",
    "  Station_Area string,\n",
    "  Box string,\n",
    "  OrigPriority string,\n",
    "  Priority string,\n",
    "  Final_Priority int,\n",
    "  ALS_Unit boolean,\n",
    "  Call_Type_Group string,\n",
    "  NumAlarms int,\n",
    "  UnitType string,\n",
    "  Unit_sequence_in_call_dispatch int,\n",
    "  Fire_Prevention_District string,\n",
    "  Supervisor_District string,\n",
    "  Neighborhood string,\n",
    "  Location string,\n",
    "  RowID string,\n",
    "  Delay double\n",
    "\n",
    ") using Delta"
   ]
  },
  {
   "cell_type": "markdown",
   "metadata": {
    "application/vnd.databricks.v1+cell": {
     "cellMetadata": {},
     "inputWidgets": {},
     "nuid": "58f3dfaa-1b1c-413e-ab5a-b84f1a8862bf",
     "showTitle": false,
     "tableResultSettingsMap": {},
     "title": ""
    }
   },
   "source": [
    "To insert or populate values into the given schema or columns using the SQL command:"
   ]
  },
  {
   "cell_type": "code",
   "execution_count": 0,
   "metadata": {
    "application/vnd.databricks.v1+cell": {
     "cellMetadata": {
      "byteLimit": 2048000,
      "implicitDf": true,
      "rowLimit": 10000
     },
     "inputWidgets": {},
     "nuid": "8fd80d8e-ad1b-4ead-8d7a-7f042959eb3c",
     "showTitle": false,
     "tableResultSettingsMap": {},
     "title": ""
    }
   },
   "outputs": [
    {
     "output_type": "display_data",
     "data": {
      "text/html": [
       "<style scoped>\n",
       "  .table-result-container {\n",
       "    max-height: 300px;\n",
       "    overflow: auto;\n",
       "  }\n",
       "  table, th, td {\n",
       "    border: 1px solid black;\n",
       "    border-collapse: collapse;\n",
       "  }\n",
       "  th, td {\n",
       "    padding: 5px;\n",
       "  }\n",
       "  th {\n",
       "    text-align: left;\n",
       "  }\n",
       "</style><div class='table-result-container'><table class='table-result'><thead style='background-color: white'><tr><th>num_affected_rows</th><th>num_inserted_rows</th></tr></thead><tbody><tr><td>1</td><td>1</td></tr></tbody></table></div>"
      ]
     },
     "metadata": {
      "application/vnd.databricks.v1+output": {
       "addedWidgets": {},
       "aggData": [],
       "aggError": "",
       "aggOverflow": false,
       "aggSchema": [],
       "aggSeriesLimitReached": false,
       "aggType": "",
       "arguments": {},
       "columnCustomDisplayInfos": {},
       "data": [
        [
         1,
         1
        ]
       ],
       "datasetInfos": [
        {
         "name": "_sqldf",
         "schema": {
          "fields": [
           {
            "metadata": {},
            "name": "num_affected_rows",
            "nullable": true,
            "type": "long"
           },
           {
            "metadata": {},
            "name": "num_inserted_rows",
            "nullable": true,
            "type": "long"
           }
          ],
          "type": "struct"
         },
         "tableIdentifier": null,
         "typeStr": "pyspark.sql.connect.dataframe.DataFrame"
        }
       ],
       "dbfsResultPath": null,
       "isJsonSchema": true,
       "metadata": {
        "createTempViewForImplicitDf": true,
        "dataframeName": "_sqldf",
        "executionCount": 18
       },
       "overflow": false,
       "plotOptions": {
        "customPlotOptions": {},
        "displayType": "table",
        "pivotAggregation": null,
        "pivotColumns": null,
        "xColumns": null,
        "yColumns": null
       },
       "removedWidgets": [],
       "schema": [
        {
         "metadata": "{}",
         "name": "num_affected_rows",
         "type": "\"long\""
        },
        {
         "metadata": "{}",
         "name": "num_inserted_rows",
         "type": "\"long\""
        }
       ],
       "type": "table"
      }
     },
     "output_type": "display_data"
    }
   ],
   "source": [
    "%sql\n",
    "insert into demo_db.fire_service_calls_tbl\n",
    "values(1234,null,null,null,null,null,null,null,null,null,null,null,null,null,null,null,null,null,null,null,null,null,null,null,null,null,null,null)"
   ]
  },
  {
   "cell_type": "markdown",
   "metadata": {
    "application/vnd.databricks.v1+cell": {
     "cellMetadata": {},
     "inputWidgets": {},
     "nuid": "a2fa3af5-74ea-4a9c-badc-d4872fb9c49c",
     "showTitle": false,
     "tableResultSettingsMap": {},
     "title": ""
    }
   },
   "source": [
    "To view the table, use the SQL command:"
   ]
  },
  {
   "cell_type": "code",
   "execution_count": 0,
   "metadata": {
    "application/vnd.databricks.v1+cell": {
     "cellMetadata": {
      "byteLimit": 2048000,
      "implicitDf": true,
      "rowLimit": 10000
     },
     "inputWidgets": {},
     "nuid": "4f383643-e831-417b-9b1b-eb8478aa782f",
     "showTitle": false,
     "tableResultSettingsMap": {},
     "title": ""
    }
   },
   "outputs": [
    {
     "output_type": "display_data",
     "data": {
      "text/html": [
       "<style scoped>\n",
       "  .table-result-container {\n",
       "    max-height: 300px;\n",
       "    overflow: auto;\n",
       "  }\n",
       "  table, th, td {\n",
       "    border: 1px solid black;\n",
       "    border-collapse: collapse;\n",
       "  }\n",
       "  th, td {\n",
       "    padding: 5px;\n",
       "  }\n",
       "  th {\n",
       "    text-align: left;\n",
       "  }\n",
       "</style><div class='table-result-container'><table class='table-result'><thead style='background-color: white'><tr><th>Call_Number</th><th>Unit_ID</th><th>Incident_Number</th><th>CallType</th><th>Call_Date</th><th>Watch_Date</th><th>Call_Final_Disposition</th><th>Available_DtTm</th><th>Address</th><th>City</th><th>Zipcode_of_Incident</th><th>Battalion</th><th>Station_Area</th><th>Box</th><th>OrigPriority</th><th>Priority</th><th>Final_Priority</th><th>ALS_Unit</th><th>Call_Type_Group</th><th>NumAlarms</th><th>UnitType</th><th>Unit_sequence_in_call_dispatch</th><th>Fire_Prevention_District</th><th>Supervisor_District</th><th>Neighborhood</th><th>Location</th><th>RowID</th><th>Delay</th></tr></thead><tbody><tr><td>1234</td><td>null</td><td>null</td><td>null</td><td>null</td><td>null</td><td>null</td><td>null</td><td>null</td><td>null</td><td>null</td><td>null</td><td>null</td><td>null</td><td>null</td><td>null</td><td>null</td><td>null</td><td>null</td><td>null</td><td>null</td><td>null</td><td>null</td><td>null</td><td>null</td><td>null</td><td>null</td><td>null</td></tr></tbody></table></div>"
      ]
     },
     "metadata": {
      "application/vnd.databricks.v1+output": {
       "addedWidgets": {},
       "aggData": [],
       "aggError": "",
       "aggOverflow": false,
       "aggSchema": [],
       "aggSeriesLimitReached": false,
       "aggType": "",
       "arguments": {},
       "columnCustomDisplayInfos": {},
       "data": [
        [
         1234,
         null,
         null,
         null,
         null,
         null,
         null,
         null,
         null,
         null,
         null,
         null,
         null,
         null,
         null,
         null,
         null,
         null,
         null,
         null,
         null,
         null,
         null,
         null,
         null,
         null,
         null,
         null
        ]
       ],
       "datasetInfos": [
        {
         "name": "_sqldf",
         "schema": {
          "fields": [
           {
            "metadata": {},
            "name": "Call_Number",
            "nullable": true,
            "type": "integer"
           },
           {
            "metadata": {},
            "name": "Unit_ID",
            "nullable": true,
            "type": "string"
           },
           {
            "metadata": {},
            "name": "Incident_Number",
            "nullable": true,
            "type": "integer"
           },
           {
            "metadata": {},
            "name": "CallType",
            "nullable": true,
            "type": "string"
           },
           {
            "metadata": {},
            "name": "Call_Date",
            "nullable": true,
            "type": "date"
           },
           {
            "metadata": {},
            "name": "Watch_Date",
            "nullable": true,
            "type": "date"
           },
           {
            "metadata": {},
            "name": "Call_Final_Disposition",
            "nullable": true,
            "type": "string"
           },
           {
            "metadata": {},
            "name": "Available_DtTm",
            "nullable": true,
            "type": "string"
           },
           {
            "metadata": {},
            "name": "Address",
            "nullable": true,
            "type": "string"
           },
           {
            "metadata": {},
            "name": "City",
            "nullable": true,
            "type": "string"
           },
           {
            "metadata": {},
            "name": "Zipcode_of_Incident",
            "nullable": true,
            "type": "integer"
           },
           {
            "metadata": {},
            "name": "Battalion",
            "nullable": true,
            "type": "string"
           },
           {
            "metadata": {},
            "name": "Station_Area",
            "nullable": true,
            "type": "string"
           },
           {
            "metadata": {},
            "name": "Box",
            "nullable": true,
            "type": "string"
           },
           {
            "metadata": {},
            "name": "OrigPriority",
            "nullable": true,
            "type": "string"
           },
           {
            "metadata": {},
            "name": "Priority",
            "nullable": true,
            "type": "string"
           },
           {
            "metadata": {},
            "name": "Final_Priority",
            "nullable": true,
            "type": "integer"
           },
           {
            "metadata": {},
            "name": "ALS_Unit",
            "nullable": true,
            "type": "boolean"
           },
           {
            "metadata": {},
            "name": "Call_Type_Group",
            "nullable": true,
            "type": "string"
           },
           {
            "metadata": {},
            "name": "NumAlarms",
            "nullable": true,
            "type": "integer"
           },
           {
            "metadata": {},
            "name": "UnitType",
            "nullable": true,
            "type": "string"
           },
           {
            "metadata": {},
            "name": "Unit_sequence_in_call_dispatch",
            "nullable": true,
            "type": "integer"
           },
           {
            "metadata": {},
            "name": "Fire_Prevention_District",
            "nullable": true,
            "type": "string"
           },
           {
            "metadata": {},
            "name": "Supervisor_District",
            "nullable": true,
            "type": "string"
           },
           {
            "metadata": {},
            "name": "Neighborhood",
            "nullable": true,
            "type": "string"
           },
           {
            "metadata": {},
            "name": "Location",
            "nullable": true,
            "type": "string"
           },
           {
            "metadata": {},
            "name": "RowID",
            "nullable": true,
            "type": "string"
           },
           {
            "metadata": {},
            "name": "Delay",
            "nullable": true,
            "type": "double"
           }
          ],
          "type": "struct"
         },
         "tableIdentifier": null,
         "typeStr": "pyspark.sql.connect.dataframe.DataFrame"
        }
       ],
       "dbfsResultPath": null,
       "isJsonSchema": true,
       "metadata": {
        "createTempViewForImplicitDf": true,
        "dataframeName": "_sqldf",
        "executionCount": 19
       },
       "overflow": false,
       "plotOptions": {
        "customPlotOptions": {},
        "displayType": "table",
        "pivotAggregation": null,
        "pivotColumns": null,
        "xColumns": null,
        "yColumns": null
       },
       "removedWidgets": [],
       "schema": [
        {
         "metadata": "{}",
         "name": "Call_Number",
         "type": "\"integer\""
        },
        {
         "metadata": "{}",
         "name": "Unit_ID",
         "type": "\"string\""
        },
        {
         "metadata": "{}",
         "name": "Incident_Number",
         "type": "\"integer\""
        },
        {
         "metadata": "{}",
         "name": "CallType",
         "type": "\"string\""
        },
        {
         "metadata": "{}",
         "name": "Call_Date",
         "type": "\"date\""
        },
        {
         "metadata": "{}",
         "name": "Watch_Date",
         "type": "\"date\""
        },
        {
         "metadata": "{}",
         "name": "Call_Final_Disposition",
         "type": "\"string\""
        },
        {
         "metadata": "{}",
         "name": "Available_DtTm",
         "type": "\"string\""
        },
        {
         "metadata": "{}",
         "name": "Address",
         "type": "\"string\""
        },
        {
         "metadata": "{}",
         "name": "City",
         "type": "\"string\""
        },
        {
         "metadata": "{}",
         "name": "Zipcode_of_Incident",
         "type": "\"integer\""
        },
        {
         "metadata": "{}",
         "name": "Battalion",
         "type": "\"string\""
        },
        {
         "metadata": "{}",
         "name": "Station_Area",
         "type": "\"string\""
        },
        {
         "metadata": "{}",
         "name": "Box",
         "type": "\"string\""
        },
        {
         "metadata": "{}",
         "name": "OrigPriority",
         "type": "\"string\""
        },
        {
         "metadata": "{}",
         "name": "Priority",
         "type": "\"string\""
        },
        {
         "metadata": "{}",
         "name": "Final_Priority",
         "type": "\"integer\""
        },
        {
         "metadata": "{}",
         "name": "ALS_Unit",
         "type": "\"boolean\""
        },
        {
         "metadata": "{}",
         "name": "Call_Type_Group",
         "type": "\"string\""
        },
        {
         "metadata": "{}",
         "name": "NumAlarms",
         "type": "\"integer\""
        },
        {
         "metadata": "{}",
         "name": "UnitType",
         "type": "\"string\""
        },
        {
         "metadata": "{}",
         "name": "Unit_sequence_in_call_dispatch",
         "type": "\"integer\""
        },
        {
         "metadata": "{}",
         "name": "Fire_Prevention_District",
         "type": "\"string\""
        },
        {
         "metadata": "{}",
         "name": "Supervisor_District",
         "type": "\"string\""
        },
        {
         "metadata": "{}",
         "name": "Neighborhood",
         "type": "\"string\""
        },
        {
         "metadata": "{}",
         "name": "Location",
         "type": "\"string\""
        },
        {
         "metadata": "{}",
         "name": "RowID",
         "type": "\"string\""
        },
        {
         "metadata": "{}",
         "name": "Delay",
         "type": "\"double\""
        }
       ],
       "type": "table"
      }
     },
     "output_type": "display_data"
    }
   ],
   "source": [
    "%sql\n",
    "select * from demo_db.fire_service_calls_tbl"
   ]
  },
  {
   "cell_type": "markdown",
   "metadata": {
    "application/vnd.databricks.v1+cell": {
     "cellMetadata": {},
     "inputWidgets": {},
     "nuid": "0458b210-8fbb-4129-9000-b9d2934385fd",
     "showTitle": false,
     "tableResultSettingsMap": {},
     "title": ""
    }
   },
   "source": [
    "TRUNCATE allows you to delete all data but keeps the table structure intact. It retains column names, constraints, indexes, and permissions. You can insert values into the table afterward. Spark SQL only allows you to TRUNCATE a table but not to DELETE \n"
   ]
  },
  {
   "cell_type": "code",
   "execution_count": 0,
   "metadata": {
    "application/vnd.databricks.v1+cell": {
     "cellMetadata": {
      "byteLimit": 2048000,
      "implicitDf": true,
      "rowLimit": 10000
     },
     "inputWidgets": {},
     "nuid": "6765205a-1f74-49a7-bfe5-d37deaed57e1",
     "showTitle": false,
     "tableResultSettingsMap": {},
     "title": ""
    }
   },
   "outputs": [],
   "source": [
    "%sql\n",
    "truncate table demo_db.fire_service_calls_tbl"
   ]
  },
  {
   "cell_type": "markdown",
   "metadata": {
    "application/vnd.databricks.v1+cell": {
     "cellMetadata": {},
     "inputWidgets": {},
     "nuid": "052e6308-8bca-4424-8a72-bf0938d3aac2",
     "showTitle": false,
     "tableResultSettingsMap": {},
     "title": ""
    }
   },
   "source": [
    "Follow this link for Apache Spark SQL reference: [https://spark.apache.org/docs/latest/sql-ref-syntax.html](https://spark.apache.org/docs/latest/sql-ref-syntax.html)"
   ]
  }
 ],
 "metadata": {
  "application/vnd.databricks.v1+notebook": {
   "computePreferences": null,
   "dashboards": [],
   "environmentMetadata": {
    "base_environment": "",
    "environment_version": "3"
   },
   "inputWidgetPreferences": null,
   "language": "python",
   "notebookMetadata": {
    "mostRecentlyExecutedCommandWithImplicitDF": {
     "commandId": 8635071568566929,
     "dataframes": [
      "_sqldf"
     ]
    },
    "pythonIndentUnit": 4
   },
   "notebookName": "03-spark-table-demo",
   "widgets": {}
  },
  "language_info": {
   "name": "python"
  }
 },
 "nbformat": 4,
 "nbformat_minor": 0
}