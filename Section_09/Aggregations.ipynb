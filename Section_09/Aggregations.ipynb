{
 "cells": [
  {
   "cell_type": "markdown",
   "id": "f9f320c9",
   "metadata": {},
   "source": [
    "# Table Contents "
   ]
  },
  {
   "cell_type": "markdown",
   "id": "1764933f",
   "metadata": {},
   "source": []
  }
 ],
 "metadata": {
  "language_info": {
   "name": "python"
  }
 },
 "nbformat": 4,
 "nbformat_minor": 5
}
